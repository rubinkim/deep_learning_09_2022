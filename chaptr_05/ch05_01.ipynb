{
 "cells": [
  {
   "cell_type": "markdown",
   "metadata": {},
   "source": [
    "#### Fashion MNIST"
   ]
  },
  {
   "cell_type": "code",
   "execution_count": 1,
   "metadata": {},
   "outputs": [],
   "source": [
    "# MNIST는 머신러닝의 고전적인 문제로 손으로 쓴 숫자 글씨를 모아놓은 데이터세트이다.\n",
    "# FASHION MNIST는 MNIST의 영향을 받아서 만들어진 데이터세트로 손글씨가 아닌 옷과 신발 가방등의 이미지들을\n",
    "# 모아놓았다. Grayscale Image라는 점과 범주 수가 10개라는 점, 각 이미지의 크기가 28*28 pixel이라는 점은\n",
    "# MNIST와 동일하지만 좀 더 어려운 문제로 평가된다.\n",
    "# 0(티셔츠/상의), 1(바지), 2(스웨터), 3(드레스), 4(코트), 5(샌들), 6(셔츠), 7(운동화), 8(가방), 9(부츠)\n",
    "\n",
    "import numpy as np\n",
    "import pandas as pd\n",
    "import matplotlib.pyplot as plt\n",
    "import seaborn as sns\n",
    "import tensorflow as tf"
   ]
  },
  {
   "cell_type": "code",
   "execution_count": 2,
   "metadata": {},
   "outputs": [
    {
     "name": "stdout",
     "output_type": "stream",
     "text": [
      "train_X의 shape : (60000, 28, 28),   train_Y의 shape : (60000,)\n",
      "test_X의 shape  : (10000, 28, 28),   test_Y의 shape  : (10000,)\n"
     ]
    }
   ],
   "source": [
    "# Fashion MNIST Dataset 불러오기\n",
    "fashion_mnist = tf.keras.datasets.fashion_mnist\n",
    "(train_X, train_Y), (test_X, test_Y) = fashion_mnist.load_data()\n",
    "\n",
    "print(f\"train_X의 shape : {train_X.shape},   train_Y의 shape : {train_Y.shape}\\n\\\n",
    "test_X의 shape  : {test_X.shape},   test_Y의 shape  : {test_Y.shape}\")"
   ]
  },
  {
   "cell_type": "code",
   "execution_count": 5,
   "metadata": {},
   "outputs": [
    {
     "name": "stdout",
     "output_type": "stream",
     "text": [
      "{0: '티셔츠/상의', 1: '바지', 2: '스웨터', 3: '드레스', 4: '코트', 5: '샌들', 6: '셔츠', 7: '운동화', 8: '가방', 9: '부츠'}\n"
     ]
    }
   ],
   "source": [
    "# Fashion MNIST 범주들 번호와 매칭하는 dictionary 만들기\n",
    "\n",
    "fashion_mnist_category_dict = {0 : '티셔츠/상의', 1 : '바지', 2 : '스웨터', 3 : '드레스', 4 : '코트', \n",
    "                               5 : '샌들', 6 : '셔츠', 7 : '운동화', 8 : '가방', 9 : '부츠'}\n",
    "\n",
    "print(fashion_mnist_category_dict)"
   ]
  },
  {
   "cell_type": "code",
   "execution_count": 12,
   "metadata": {},
   "outputs": [
    {
     "data": {
      "image/png": "[encoded data removed]",
      "text/plain": [
       "<Figure size 640x480 with 2 Axes>"
      ]
     },
     "metadata": {},
     "output_type": "display_data"
    },
    {
     "name": "stdout",
     "output_type": "stream",
     "text": [
      "이 이미지는 부츠이다.\n"
     ]
    }
   ],
   "source": [
    "img_no = int(input(\"원하시는 이미지 번호을 선택하세요 : \"))\n",
    "\n",
    "plt.imshow(train_X[img_no], cmap='gray')\n",
    "plt.colorbar()\n",
    "plt.show()\n",
    "\n",
    "print(f\"이 이미지는 {fashion_mnist_category_dict[train_Y[img_no]]}이다.\")"
   ]
  },
  {
   "cell_type": "code",
   "execution_count": null,
   "metadata": {},
   "outputs": [],
   "source": []
  }
 ],
 "metadata": {
  "kernelspec": {
   "display_name": "Python 3.9.13 ('tf_gpu')",
   "language": "python",
   "name": "python3"
  },
  "language_info": {
   "codemirror_mode": {
    "name": "ipython",
    "version": 3
   },
   "file_extension": ".py",
   "mimetype": "text/x-python",
   "name": "python",
   "nbconvert_exporter": "python",
   "pygments_lexer": "ipython3",
   "version": "3.9.13"
  },
  "orig_nbformat": 4,
  "vscode": {
   "interpreter": {
    "hash": "7b18c970f1c267b2ae7de1f51c7b9ea29dc67f6c9f87d5b0ef47c4534e0830b3"
   }
  }
 },
 "nbformat": 4,
 "nbformat_minor": 2
}
