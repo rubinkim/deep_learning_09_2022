{
 "cells": [
  {
   "cell_type": "markdown",
   "metadata": {},
   "source": [
    "#### Fashion MNIST"
   ]
  },
  {
   "cell_type": "code",
   "execution_count": 1,
   "metadata": {},
   "outputs": [],
   "source": [
    "# MNIST는 머신러닝의 고전적인 문제로 손으로 쓴 숫자 글씨를 모아놓은 데이터세트이다.\n",
    "# FASHION MNIST는 MNIST의 영향을 받아서 만들어진 데이터세트로 손글씨가 아닌 옷과 신발 가방등의 이미지들을\n",
    "# 모아놓았다. Grayscale Image라는 점과 범주 수가 10개라는 점, 각 이미지의 크기가 28*28 pixel이라는 점은\n",
    "# MNIST와 동일하지만 좀 더 어려운 문제로 평가된다.\n",
    "# 0(티셔츠/상의), 1(바지), 2(스웨터), 3(드레스), 4(코트), 5(샌들), 6(셔츠), 7(운동화), 8(가방), 9(부츠)\n",
    "\n",
    "import numpy as np\n",
    "import pandas as pd\n",
    "import matplotlib.pyplot as plt\n",
    "import seaborn as sns\n",
    "import tensorflow as tf"
   ]
  },
  {
   "cell_type": "code",
   "execution_count": 2,
   "metadata": {},
   "outputs": [
    {
     "name": "stdout",
     "output_type": "stream",
     "text": [
      "train_X의 shape : (60000, 28, 28),   train_Y의 shape : (60000,)\n",
      "test_X의 shape  : (10000, 28, 28),   test_Y의 shape  : (10000,)\n"
     ]
    }
   ],
   "source": [
    "# Fashion MNIST Dataset 불러오기\n",
    "fashion_mnist = tf.keras.datasets.fashion_mnist\n",
    "(train_X, train_Y), (test_X, test_Y) = fashion_mnist.load_data()\n",
    "\n",
    "print(f\"train_X의 shape : {train_X.shape},   train_Y의 shape : {train_Y.shape}\\n\\\n",
    "test_X의 shape  : {test_X.shape},   test_Y의 shape  : {test_Y.shape}\")"
   ]
  },
  {
   "cell_type": "code",
   "execution_count": 3,
   "metadata": {},
   "outputs": [
    {
     "name": "stdout",
     "output_type": "stream",
     "text": [
      "{0: '티셔츠/상의', 1: '바지', 2: '스웨터', 3: '드레스', 4: '코트', 5: '샌들', 6: '셔츠', 7: '운동화', 8: '가방', 9: '부츠'}\n"
     ]
    }
   ],
   "source": [
    "# Fashion MNIST 범주들 번호와 매칭하는 dictionary 만들기\n",
    "\n",
    "fashion_mnist_category_dict = {0 : '티셔츠/상의', 1 : '바지', 2 : '스웨터', 3 : '드레스', 4 : '코트', \n",
    "                               5 : '샌들', 6 : '셔츠', 7 : '운동화', 8 : '가방', 9 : '부츠'}\n",
    "\n",
    "print(fashion_mnist_category_dict)"
   ]
  },
  {
   "cell_type": "code",
   "execution_count": 4,
   "metadata": {},
   "outputs": [
    {
     "data": {
      "image/png": "[encoded data removed]",
      "text/plain": [
       "<Figure size 640x480 with 2 Axes>"
      ]
     },
     "metadata": {},
     "output_type": "display_data"
    },
    {
     "name": "stdout",
     "output_type": "stream",
     "text": [
      "이 이미지는 부츠이다.\n"
     ]
    }
   ],
   "source": [
    "img_no = int(input(\"원하시는 이미지 번호을 선택하세요 : \"))\n",
    "\n",
    "plt.imshow(train_X[img_no], cmap='gray')\n",
    "plt.colorbar()\n",
    "plt.show()\n",
    "\n",
    "print(f\"이 이미지는 {fashion_mnist_category_dict[train_Y[img_no]]}이다.\")"
   ]
  },
  {
   "cell_type": "code",
   "execution_count": 5,
   "metadata": {},
   "outputs": [
    {
     "data": {
      "text/plain": [
       "array([[  0,   0,   0,   0,   0,   0,   0,   0,   0,   0,   0,   0,   0,\n",
       "          0,   0,   0,   0,   0,   0,   0,   0,   0,   0,   0,   0,   0,\n",
       "          0,   0],\n",
       "       [  0,   0,   0,   0,   0,   0,   0,   0,   0,   0,   0,   0,   0,\n",
       "          0,   0,   0,   0,   0,   0,   0,   0,   0,   0,   0,   0,   0,\n",
       "          0,   0],\n",
       "       [  0,   0,   0,   0,   0,   0,   0,   0,   0,   0,   0,   0,   0,\n",
       "          0,   0,   0,   0,   0,   0,   0,   0,   0,   0,   0,   0,   0,\n",
       "          0,   0],\n",
       "       [  0,   0,   0,   0,   0,   0,   0,   0,   0,   0,   0,   0,   1,\n",
       "          0,   0,  13,  73,   0,   0,   1,   4,   0,   0,   0,   0,   1,\n",
       "          1,   0],\n",
       "       [  0,   0,   0,   0,   0,   0,   0,   0,   0,   0,   0,   0,   3,\n",
       "          0,  36, 136, 127,  62,  54,   0,   0,   0,   1,   3,   4,   0,\n",
       "          0,   3],\n",
       "       [  0,   0,   0,   0,   0,   0,   0,   0,   0,   0,   0,   0,   6,\n",
       "          0, 102, 204, 176, 134, 144, 123,  23,   0,   0,   0,   0,  12,\n",
       "         10,   0],\n",
       "       [  0,   0,   0,   0,   0,   0,   0,   0,   0,   0,   0,   0,   0,\n",
       "          0, 155, 236, 207, 178, 107, 156, 161, 109,  64,  23,  77, 130,\n",
       "         72,  15],\n",
       "       [  0,   0,   0,   0,   0,   0,   0,   0,   0,   0,   0,   1,   0,\n",
       "         69, 207, 223, 218, 216, 216, 163, 127, 121, 122, 146, 141,  88,\n",
       "        172,  66],\n",
       "       [  0,   0,   0,   0,   0,   0,   0,   0,   0,   1,   1,   1,   0,\n",
       "        200, 232, 232, 233, 229, 223, 223, 215, 213, 164, 127, 123, 196,\n",
       "        229,   0],\n",
       "       [  0,   0,   0,   0,   0,   0,   0,   0,   0,   0,   0,   0,   0,\n",
       "        183, 225, 216, 223, 228, 235, 227, 224, 222, 224, 221, 223, 245,\n",
       "        173,   0],\n",
       "       [  0,   0,   0,   0,   0,   0,   0,   0,   0,   0,   0,   0,   0,\n",
       "        193, 228, 218, 213, 198, 180, 212, 210, 211, 213, 223, 220, 243,\n",
       "        202,   0],\n",
       "       [  0,   0,   0,   0,   0,   0,   0,   0,   0,   1,   3,   0,  12,\n",
       "        219, 220, 212, 218, 192, 169, 227, 208, 218, 224, 212, 226, 197,\n",
       "        209,  52],\n",
       "       [  0,   0,   0,   0,   0,   0,   0,   0,   0,   0,   6,   0,  99,\n",
       "        244, 222, 220, 218, 203, 198, 221, 215, 213, 222, 220, 245, 119,\n",
       "        167,  56],\n",
       "       [  0,   0,   0,   0,   0,   0,   0,   0,   0,   4,   0,   0,  55,\n",
       "        236, 228, 230, 228, 240, 232, 213, 218, 223, 234, 217, 217, 209,\n",
       "         92,   0],\n",
       "       [  0,   0,   1,   4,   6,   7,   2,   0,   0,   0,   0,   0, 237,\n",
       "        226, 217, 223, 222, 219, 222, 221, 216, 223, 229, 215, 218, 255,\n",
       "         77,   0],\n",
       "       [  0,   3,   0,   0,   0,   0,   0,   0,   0,  62, 145, 204, 228,\n",
       "        207, 213, 221, 218, 208, 211, 218, 224, 223, 219, 215, 224, 244,\n",
       "        159,   0],\n",
       "       [  0,   0,   0,   0,  18,  44,  82, 107, 189, 228, 220, 222, 217,\n",
       "        226, 200, 205, 211, 230, 224, 234, 176, 188, 250, 248, 233, 238,\n",
       "        215,   0],\n",
       "       [  0,  57, 187, 208, 224, 221, 224, 208, 204, 214, 208, 209, 200,\n",
       "        159, 245, 193, 206, 223, 255, 255, 221, 234, 221, 211, 220, 232,\n",
       "        246,   0],\n",
       "       [  3, 202, 228, 224, 221, 211, 211, 214, 205, 205, 205, 220, 240,\n",
       "         80, 150, 255, 229, 221, 188, 154, 191, 210, 204, 209, 222, 228,\n",
       "        225,   0],\n",
       "       [ 98, 233, 198, 210, 222, 229, 229, 234, 249, 220, 194, 215, 217,\n",
       "        241,  65,  73, 106, 117, 168, 219, 221, 215, 217, 223, 223, 224,\n",
       "        229,  29],\n",
       "       [ 75, 204, 212, 204, 193, 205, 211, 225, 216, 185, 197, 206, 198,\n",
       "        213, 240, 195, 227, 245, 239, 223, 218, 212, 209, 222, 220, 221,\n",
       "        230,  67],\n",
       "       [ 48, 203, 183, 194, 213, 197, 185, 190, 194, 192, 202, 214, 219,\n",
       "        221, 220, 236, 225, 216, 199, 206, 186, 181, 177, 172, 181, 205,\n",
       "        206, 115],\n",
       "       [  0, 122, 219, 193, 179, 171, 183, 196, 204, 210, 213, 207, 211,\n",
       "        210, 200, 196, 194, 191, 195, 191, 198, 192, 176, 156, 167, 177,\n",
       "        210,  92],\n",
       "       [  0,   0,  74, 189, 212, 191, 175, 172, 175, 181, 185, 188, 189,\n",
       "        188, 193, 198, 204, 209, 210, 210, 211, 188, 188, 194, 192, 216,\n",
       "        170,   0],\n",
       "       [  2,   0,   0,   0,  66, 200, 222, 237, 239, 242, 246, 243, 244,\n",
       "        221, 220, 193, 191, 179, 182, 182, 181, 176, 166, 168,  99,  58,\n",
       "          0,   0],\n",
       "       [  0,   0,   0,   0,   0,   0,   0,  40,  61,  44,  72,  41,  35,\n",
       "          0,   0,   0,   0,   0,   0,   0,   0,   0,   0,   0,   0,   0,\n",
       "          0,   0],\n",
       "       [  0,   0,   0,   0,   0,   0,   0,   0,   0,   0,   0,   0,   0,\n",
       "          0,   0,   0,   0,   0,   0,   0,   0,   0,   0,   0,   0,   0,\n",
       "          0,   0],\n",
       "       [  0,   0,   0,   0,   0,   0,   0,   0,   0,   0,   0,   0,   0,\n",
       "          0,   0,   0,   0,   0,   0,   0,   0,   0,   0,   0,   0,   0,\n",
       "          0,   0]], dtype=uint8)"
      ]
     },
     "execution_count": 5,
     "metadata": {},
     "output_type": "execute_result"
    }
   ],
   "source": [
    "train_X[0]"
   ]
  },
  {
   "cell_type": "code",
   "execution_count": 6,
   "metadata": {},
   "outputs": [],
   "source": [
    "# 훈련을 하기 전에 데이터를 정규화하자. 각각의 픽셀은 0부터 255까지의 숫자로 이루어져 있으므로 각 픽셀값을 \n",
    "# 255로 나누면 0.0~1.0사이의 값으로 정규화된다.\n",
    "\n",
    "train_X = train_X / 255.0\n",
    "test_X = test_X / 255.0"
   ]
  },
  {
   "cell_type": "code",
   "execution_count": 9,
   "metadata": {},
   "outputs": [
    {
     "name": "stdout",
     "output_type": "stream",
     "text": [
      "Model: \"sequential\"\n",
      "_________________________________________________________________\n",
      " Layer (type)                Output Shape              Param #   \n",
      "=================================================================\n",
      " flatten (Flatten)           (None, 784)               0         \n",
      "                                                                 \n",
      " dense (Dense)               (None, 128)               100480    \n",
      "                                                                 \n",
      " dense_1 (Dense)             (None, 10)                1290      \n",
      "                                                                 \n",
      "=================================================================\n",
      "Total params: 101,770\n",
      "Trainable params: 101,770\n",
      "Non-trainable params: 0\n",
      "_________________________________________________________________\n"
     ]
    }
   ],
   "source": [
    "# y값들을 one-hot encoding한다. 범주가 10개이므로 num_classes=10으로 한다.\n",
    "# train_Y = tf.keras.utils.to_categorical(train_Y, num_classes=10)\n",
    "# test_Y = tf.keras.utils.to_categorical(test_Y, num_classes=10)\n",
    "# 그런데 뭔가 비효율적인 느낌이 든다. 우리가 필요로 하는 정보는 정답 라벨 하나뿐인데 그것을 표현하기 위해 10개의 \n",
    "# 숫자를 사용해야 하는 것이다. 이렇게 대부분의 값이 0인 행렬을 희소행렬(sparse matrix)이라고 한다.\n",
    "# 행렬이 클 경우 수많은 0을 위한 메모리를 모두 확보하는 것은 시스템에서는 낭비이다. 이럴 때 같은 정보를 압축적으로\n",
    "# 표현하는 방법을 쓸 수 있다. 0이 아닌 숫자가 있는 위치와 그 숫자의 값만 저장하는 것이다.\n",
    "# 이미 train_Y와 test_Y는 정보가 이렇게 표현돼 있기 때문에 별도의 변환은 필요없다. \n",
    "# 모델 정의에서 원-핫 인코딩이 아닌 이러한 데이터를 받아서 계산하기 위해서는 간단한 수정이 필요하다.\n",
    "\n",
    "model = tf.keras.Sequential([\n",
    "    tf.keras.layers.Flatten(input_shape=[28, 28]),\n",
    "    tf.keras.layers.Dense(units=128, activation='relu'),\n",
    "    tf.keras.layers.Dense(units=10, activation='softmax')\n",
    "])\n",
    "\n",
    "model.compile(optimizer=tf.keras.optimizers.Adam(), loss='sparse_categorical_crossentropy',\n",
    "              metrics=['accuracy'])\n",
    "\n",
    "model.summary()"
   ]
  },
  {
   "cell_type": "code",
   "execution_count": 14,
   "metadata": {},
   "outputs": [
    {
     "name": "stdout",
     "output_type": "stream",
     "text": [
      "Epoch 1/25\n",
      "1407/1407 [==============================] - 6s 3ms/step - loss: 0.5218 - accuracy: 0.8157 - val_loss: 0.4281 - val_accuracy: 0.8518\n",
      "Epoch 2/25\n",
      "1407/1407 [==============================] - 4s 3ms/step - loss: 0.3888 - accuracy: 0.8587 - val_loss: 0.4001 - val_accuracy: 0.8564\n",
      "Epoch 3/25\n",
      "1407/1407 [==============================] - 4s 3ms/step - loss: 0.3486 - accuracy: 0.8727 - val_loss: 0.3498 - val_accuracy: 0.8733\n",
      "Epoch 4/25\n",
      "1407/1407 [==============================] - 4s 3ms/step - loss: 0.3221 - accuracy: 0.8834 - val_loss: 0.3431 - val_accuracy: 0.8765\n",
      "Epoch 5/25\n",
      "1407/1407 [==============================] - 4s 3ms/step - loss: 0.3040 - accuracy: 0.8874 - val_loss: 0.3642 - val_accuracy: 0.8696\n",
      "Epoch 6/25\n",
      "1407/1407 [==============================] - 4s 3ms/step - loss: 0.2883 - accuracy: 0.8934 - val_loss: 0.3393 - val_accuracy: 0.8767\n",
      "Epoch 7/25\n",
      "1407/1407 [==============================] - 4s 3ms/step - loss: 0.2751 - accuracy: 0.8988 - val_loss: 0.3127 - val_accuracy: 0.8880\n",
      "Epoch 8/25\n",
      "1407/1407 [==============================] - 4s 3ms/step - loss: 0.2632 - accuracy: 0.9014 - val_loss: 0.3206 - val_accuracy: 0.8846\n",
      "Epoch 9/25\n",
      "1407/1407 [==============================] - 4s 3ms/step - loss: 0.2510 - accuracy: 0.9053 - val_loss: 0.3081 - val_accuracy: 0.8893\n",
      "Epoch 10/25\n",
      "1407/1407 [==============================] - 4s 3ms/step - loss: 0.2402 - accuracy: 0.9114 - val_loss: 0.3239 - val_accuracy: 0.8833\n",
      "Epoch 11/25\n",
      "1407/1407 [==============================] - 4s 3ms/step - loss: 0.2306 - accuracy: 0.9134 - val_loss: 0.3139 - val_accuracy: 0.8897\n",
      "Epoch 12/25\n",
      "1407/1407 [==============================] - 4s 3ms/step - loss: 0.2255 - accuracy: 0.9154 - val_loss: 0.3225 - val_accuracy: 0.8843\n",
      "Epoch 13/25\n",
      "1407/1407 [==============================] - 4s 3ms/step - loss: 0.2189 - accuracy: 0.9186 - val_loss: 0.3087 - val_accuracy: 0.8930\n",
      "Epoch 14/25\n",
      "1407/1407 [==============================] - 4s 3ms/step - loss: 0.2111 - accuracy: 0.9227 - val_loss: 0.3148 - val_accuracy: 0.8906\n",
      "Epoch 15/25\n",
      "1407/1407 [==============================] - 4s 3ms/step - loss: 0.2021 - accuracy: 0.9244 - val_loss: 0.3272 - val_accuracy: 0.8929\n",
      "Epoch 16/25\n",
      "1407/1407 [==============================] - 4s 3ms/step - loss: 0.1987 - accuracy: 0.9245 - val_loss: 0.3441 - val_accuracy: 0.8838\n",
      "Epoch 17/25\n",
      "1407/1407 [==============================] - 4s 3ms/step - loss: 0.1902 - accuracy: 0.9284 - val_loss: 0.3353 - val_accuracy: 0.8859\n",
      "Epoch 18/25\n",
      "1407/1407 [==============================] - 4s 3ms/step - loss: 0.1850 - accuracy: 0.9303 - val_loss: 0.3364 - val_accuracy: 0.8906\n",
      "Epoch 19/25\n",
      "1407/1407 [==============================] - 4s 3ms/step - loss: 0.1802 - accuracy: 0.9315 - val_loss: 0.3322 - val_accuracy: 0.8907\n",
      "Epoch 20/25\n",
      "1407/1407 [==============================] - 4s 3ms/step - loss: 0.1747 - accuracy: 0.9350 - val_loss: 0.3436 - val_accuracy: 0.8903\n",
      "Epoch 21/25\n",
      "1407/1407 [==============================] - 4s 3ms/step - loss: 0.1683 - accuracy: 0.9376 - val_loss: 0.3433 - val_accuracy: 0.8905\n",
      "Epoch 22/25\n",
      "1407/1407 [==============================] - 4s 3ms/step - loss: 0.1661 - accuracy: 0.9382 - val_loss: 0.3678 - val_accuracy: 0.8844\n",
      "Epoch 23/25\n",
      "1407/1407 [==============================] - 4s 3ms/step - loss: 0.1619 - accuracy: 0.9385 - val_loss: 0.3611 - val_accuracy: 0.8907\n",
      "Epoch 24/25\n",
      "1407/1407 [==============================] - 4s 3ms/step - loss: 0.1574 - accuracy: 0.9420 - val_loss: 0.3495 - val_accuracy: 0.8947\n",
      "Epoch 25/25\n",
      "1407/1407 [==============================] - 4s 3ms/step - loss: 0.1550 - accuracy: 0.9412 - val_loss: 0.3620 - val_accuracy: 0.8913\n"
     ]
    }
   ],
   "source": [
    "# 원-핫 인코딩이 아닌 정답 행렬을 처리하기 위해 바뀐 부분은 바로 compile함수의 loss에 sparse_categorical_\n",
    "# crossentropy가 사용되어졌다는 것이다. 이것을 사용하면 별도의 데이터 전처리없이 희소행렬로 변환할 필요없이\n",
    "# 정답행렬을 사용할 수 있다.\n",
    "# 또한 원래 데이터가 28*28의 2차원 데이터이기 때문에 데이터를 일렬로 정렬하기 위해 Flatten이라는 레이어를 \n",
    "# 사용했다. 이 레이어는 다차원 데이터를 1차원으로 정렬하는 역할을 한다.\n",
    "# 그 다음 2개의 Dense레이어를 통과해서 예측이 출력된다. 마지막 레이어의 뉴런 수가 정답 범주 수와 같은 10개라는\n",
    "# 점도 놓치면 안되겠다. \n",
    "# Adam optimizer의 학습률 값은 0.07이 아닌 default값인 0.001로 했다. 이 값은 일반적으로 많은 상황에서 잘 작동\n",
    "# 하지만 데이터와 모델에 따라 더 크거나 작은 값을 시도해야 할 수도 있다.\n",
    "\n",
    "history = model.fit(train_X, train_Y, epochs=25, validation_split=0.25)"
   ]
  }
 ],
 "metadata": {
  "kernelspec": {
   "display_name": "Python 3.9.13 ('tf_gpu')",
   "language": "python",
   "name": "python3"
  },
  "language_info": {
   "codemirror_mode": {
    "name": "ipython",
    "version": 3
   },
   "file_extension": ".py",
   "mimetype": "text/x-python",
   "name": "python",
   "nbconvert_exporter": "python",
   "pygments_lexer": "ipython3",
   "version": "3.9.13"
  },
  "orig_nbformat": 4,
  "vscode": {
   "interpreter": {
    "hash": "7b18c970f1c267b2ae7de1f51c7b9ea29dc67f6c9f87d5b0ef47c4534e0830b3"
   }
  }
 },
 "nbformat": 4,
 "nbformat_minor": 2
}
