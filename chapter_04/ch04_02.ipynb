{
 "cells": [
  {
   "cell_type": "markdown",
   "metadata": {},
   "source": [
    "##### 4.3 딥러닝 네트워크를 이용한 회귀"
   ]
  },
  {
   "cell_type": "code",
   "execution_count": 1,
   "metadata": {},
   "outputs": [],
   "source": [
    "import tensorflow as tf\n",
    "import numpy as np"
   ]
  },
  {
   "cell_type": "code",
   "execution_count": 2,
   "metadata": {},
   "outputs": [
    {
     "data": {
      "text/plain": [
       "(16, 16)"
      ]
     },
     "execution_count": 2,
     "metadata": {},
     "output_type": "execute_result"
    }
   ],
   "source": [
    "X = [0.3, -0.78, 1.26, 0.03, 1.11, 0.24, -0.24, -0.47, -0.77, -0.37, -0.85, -0.41, -0.27, 0.02, -0.76, 2.66]\n",
    "y = [12.27, 14.44, 11.87, 18.75, 17.52, 16.37, 19.78, 19.51, 12.65, 14.74, 10.72, 21.94, 12.83, 15.51, 17.14, 14.42]\n",
    "\n",
    "X = np.array(X)\n",
    "y = np.array(y)\n",
    "\n",
    "len(X), len(y)"
   ]
  },
  {
   "cell_type": "code",
   "execution_count": 3,
   "metadata": {},
   "outputs": [
    {
     "name": "stdout",
     "output_type": "stream",
     "text": [
      "Model: \"sequential\"\n",
      "_________________________________________________________________\n",
      " Layer (type)                Output Shape              Param #   \n",
      "=================================================================\n",
      " dense (Dense)               (None, 6)                 12        \n",
      "                                                                 \n",
      " dense_1 (Dense)             (None, 1)                 7         \n",
      "                                                                 \n",
      "=================================================================\n",
      "Total params: 19\n",
      "Trainable params: 19\n",
      "Non-trainable params: 0\n",
      "_________________________________________________________________\n"
     ]
    }
   ],
   "source": [
    "model = tf.keras.Sequential([\n",
    "    tf.keras.layers.Dense(units=6, activation='tanh', input_shape=(1,)),\n",
    "    tf.keras.layers.Dense(units=1)\n",
    "])\n",
    "\n",
    "model.compile(optimizer=tf.optimizers.SGD(learning_rate=0.1), loss='mse')\n",
    "model.summary()"
   ]
  },
  {
   "cell_type": "code",
   "execution_count": 4,
   "metadata": {},
   "outputs": [
    {
     "name": "stdout",
     "output_type": "stream",
     "text": [
      "Epoch 1/10\n",
      "1/1 [==============================] - 2s 2s/step - loss: 258.6339\n",
      "Epoch 2/10\n",
      "1/1 [==============================] - 0s 4ms/step - loss: 120.1568\n",
      "Epoch 3/10\n",
      "1/1 [==============================] - 0s 7ms/step - loss: 10.5061\n",
      "Epoch 4/10\n",
      "1/1 [==============================] - 0s 5ms/step - loss: 9.9729\n",
      "Epoch 5/10\n",
      "1/1 [==============================] - 0s 4ms/step - loss: 9.9436\n",
      "Epoch 6/10\n",
      "1/1 [==============================] - 0s 5ms/step - loss: 9.9166\n",
      "Epoch 7/10\n",
      "1/1 [==============================] - 0s 8ms/step - loss: 9.8883\n",
      "Epoch 8/10\n",
      "1/1 [==============================] - 0s 7ms/step - loss: 9.8588\n",
      "Epoch 9/10\n",
      "1/1 [==============================] - 0s 7ms/step - loss: 9.8286\n",
      "Epoch 10/10\n",
      "1/1 [==============================] - 0s 7ms/step - loss: 9.7989\n"
     ]
    },
    {
     "data": {
      "text/plain": [
       "<keras.callbacks.History at 0x1a4962ddb20>"
      ]
     },
     "execution_count": 4,
     "metadata": {},
     "output_type": "execute_result"
    }
   ],
   "source": [
    "# 딥러닝 네트워크의 학습\n",
    "model.fit(X, y, epochs=10)"
   ]
  },
  {
   "cell_type": "code",
   "execution_count": 8,
   "metadata": {},
   "outputs": [
    {
     "name": "stdout",
     "output_type": "stream",
     "text": [
      "1/1 [==============================] - 0s 27ms/step\n"
     ]
    },
    {
     "data": {
      "text/plain": [
       "array([[15.698082],\n",
       "       [15.64382 ],\n",
       "       [15.609276],\n",
       "       [15.7034  ],\n",
       "       [15.628723],\n",
       "       [15.700174],\n",
       "       [15.697224],\n",
       "       [15.681673],\n",
       "       [15.645367],\n",
       "       [15.689671],\n",
       "       [15.632359],\n",
       "       [15.686705],\n",
       "       [15.695757],\n",
       "       [15.703384],\n",
       "       [15.646891],\n",
       "       [15.382256]], dtype=float32)"
      ]
     },
     "execution_count": 8,
     "metadata": {},
     "output_type": "execute_result"
    }
   ],
   "source": [
    "# 딥러닝 네트워크의 y값 예측\n",
    "model.predict(X)"
   ]
  },
  {
   "cell_type": "code",
   "execution_count": 9,
   "metadata": {},
   "outputs": [
    {
     "name": "stdout",
     "output_type": "stream",
     "text": [
      "11/11 [==============================] - 0s 2ms/step\n"
     ]
    },
    {
     "data": {
      "image/png": "[encoded data removed]",
      "text/plain": [
       "<Figure size 1500x600 with 1 Axes>"
      ]
     },
     "metadata": {},
     "output_type": "display_data"
    }
   ],
   "source": [
    "# 딥러닝 네트워크의 회귀선 확인\n",
    "import matplotlib.pyplot as plt\n",
    "\n",
    "line_x = np.arange(min(X), max(X), 0.01)\n",
    "line_y = model.predict(line_x)\n",
    "\n",
    "plt.rcParams['figure.figsize'] = (15,6)\n",
    "plt.plot(line_x, line_y, 'r_')\n",
    "plt.plot(X, y, 'bo')\n",
    "plt.xlabel('Population Growth Rate (%)')\n",
    "plt.ylabel('Elerly Population Rate (%)')\n",
    "plt.show()"
   ]
  },
  {
   "cell_type": "code",
   "execution_count": null,
   "metadata": {},
   "outputs": [],
   "source": []
  }
 ],
 "metadata": {
  "kernelspec": {
   "display_name": "Python 3.9.13 ('tf_gpu')",
   "language": "python",
   "name": "python3"
  },
  "language_info": {
   "codemirror_mode": {
    "name": "ipython",
    "version": 3
   },
   "file_extension": ".py",
   "mimetype": "text/x-python",
   "name": "python",
   "nbconvert_exporter": "python",
   "pygments_lexer": "ipython3",
   "version": "3.9.13"
  },
  "orig_nbformat": 4,
  "vscode": {
   "interpreter": {
    "hash": "7b18c970f1c267b2ae7de1f51c7b9ea29dc67f6c9f87d5b0ef47c4534e0830b3"
   }
  }
 },
 "nbformat": 4,
 "nbformat_minor": 2
}
