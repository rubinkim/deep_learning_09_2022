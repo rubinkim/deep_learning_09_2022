{
 "cells": [
  {
   "cell_type": "markdown",
   "metadata": {},
   "source": [
    "##### 인구증가율과 고령인구비율간의 회귀분석"
   ]
  },
  {
   "cell_type": "code",
   "execution_count": 1,
   "metadata": {},
   "outputs": [
    {
     "data": {
      "text/plain": [
       "(16, 16)"
      ]
     },
     "execution_count": 1,
     "metadata": {},
     "output_type": "execute_result"
    }
   ],
   "source": [
    "# X : 인구증가율(%),  y : 노령인구비율(%)\n",
    "\n",
    "import tensorflow as tf\n",
    "import numpy as np\n",
    "import matplotlib.pyplot as plt\n",
    "import random\n",
    "\n",
    "X = [0.3, -0.78, 1.26, 0.03, 1.11, 0.24, -0.24, -0.47, -0.77, -0.37, -0.85, -0.41, -0.27, 0.02, -0.76, 2.66]\n",
    "y = [12.27, 14.44, 11.87, 18.75, 17.52, 16.37, 19.78, 19.51, 12.65, 14.74, 10.72, 21.94, 12.83, 15.51, 17.14, 14.42]\n",
    "\n",
    "len(X), len(y)"
   ]
  },
  {
   "cell_type": "code",
   "execution_count": 16,
   "metadata": {},
   "outputs": [
    {
     "name": "stdout",
     "output_type": "stream",
     "text": [
      " 99  a :    0.1250     b :   6.6640     loss :  90.688583\n",
      "199  a :   -0.1152     b :  11.1608     loss :  30.060293\n",
      "299  a :   -0.2553     b :  13.7856     loss :  13.320795\n",
      "399  a :   -0.3213     b :  15.0218     loss :  10.199139\n",
      "499  a :   -0.3461     b :  15.4871     loss :   9.813941\n",
      "599  a :   -0.3536     b :  15.6275     loss :   9.782548\n",
      "699  a :   -0.3554     b :  15.6616     loss :   9.780864\n",
      "799  a :   -0.3558     b :  15.6682     loss :   9.780806\n",
      "899  a :   -0.3558     b :  15.6692     loss :   9.780803\n",
      "999  a :   -0.3558     b :  15.6693     loss :   9.780804\n"
     ]
    }
   ],
   "source": [
    "# a와 b를 랜덤한 값으로 초기화한다.\n",
    "a = tf.Variable(random.random())    # random() -> x in the interval (0,1]\n",
    "b = tf.Variable(random.random())\n",
    "\n",
    "# 잔차 제곱의 평균을 반환하는 함수\n",
    "def compute_loss():\n",
    "    y_pred = a * X + b\n",
    "    loss = tf.reduce_mean((y - y_pred) ** 2)\n",
    "    return loss\n",
    "\n",
    "optimizer = tf.optimizers.Adam(learning_rate=0.07)\n",
    "\n",
    "for i in range(1000):\n",
    "    # 잔차 제곱이 평균을 최소화(minimize)한다.\n",
    "    optimizer.minimize(compute_loss, var_list=[a, b])\n",
    "    \n",
    "    if i % 100 == 99:\n",
    "        print(f\"{i:3d}  a :  {a.numpy():8.4f}     b : {b.numpy():8.4f}     loss : {compute_loss().numpy():10.6f}\")"
   ]
  },
  {
   "cell_type": "code",
   "execution_count": null,
   "metadata": {},
   "outputs": [],
   "source": [
    "plt.rcParams['figure.figsize'] = (15, 6)\n",
    "line_x = np.arange(min(X))"
   ]
  }
 ],
 "metadata": {
  "kernelspec": {
   "display_name": "Python 3.9.13 ('tf_gpu')",
   "language": "python",
   "name": "python3"
  },
  "language_info": {
   "codemirror_mode": {
    "name": "ipython",
    "version": 3
   },
   "file_extension": ".py",
   "mimetype": "text/x-python",
   "name": "python",
   "nbconvert_exporter": "python",
   "pygments_lexer": "ipython3",
   "version": "3.9.13"
  },
  "orig_nbformat": 4,
  "vscode": {
   "interpreter": {
    "hash": "7b18c970f1c267b2ae7de1f51c7b9ea29dc67f6c9f87d5b0ef47c4534e0830b3"
   }
  }
 },
 "nbformat": 4,
 "nbformat_minor": 2
}
